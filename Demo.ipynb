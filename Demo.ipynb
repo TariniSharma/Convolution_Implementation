{
  "nbformat": 4,
  "nbformat_minor": 0,
  "metadata": {
    "colab": {
      "provenance": []
    },
    "kernelspec": {
      "name": "python3",
      "display_name": "Python 3"
    },
    "language_info": {
      "name": "python"
    }
  },
  "cells": [
    {
      "cell_type": "markdown",
      "source": [
        "### Imports"
      ],
      "metadata": {
        "id": "VjSEXMsa6EcQ"
      }
    },
    {
      "cell_type": "code",
      "execution_count": 61,
      "metadata": {
        "id": "YMpjK61BqS8a"
      },
      "outputs": [],
      "source": [
        "from numpy.lib.stride_tricks import as_strided\n",
        "import numpy as np\n",
        "import torch\n",
        "import torch.nn as nn"
      ]
    },
    {
      "cell_type": "markdown",
      "source": [
        "### Input storage\n",
        "Z : [BATCHES] x [HEIGHT] x [WIDTH] x [INPUT_CHANNELS] NHWC format </br>\n",
        "W : [KERNEL_SIZE] X [KERNEL_SIZE] x [INPUT_CHANNELS] x [OUTPUT_CHANNELS]\n",
        "\n",
        "</br>\n",
        "Pytorch expects Z to be in NCHW form and W to be in [OUT_CHANNELS][IN_CHANNELS][K][K]"
      ],
      "metadata": {
        "id": "Zhgb2rFeE6cT"
      }
    },
    {
      "cell_type": "code",
      "source": [
        "Z = np.random.rand(10,32,32,8)\n",
        "W = np.random.rand(3,3,8,16)"
      ],
      "metadata": {
        "id": "mZzinSJ9GyF8"
      },
      "execution_count": 62,
      "outputs": []
    },
    {
      "cell_type": "markdown",
      "source": [
        "### Reference Implementation"
      ],
      "metadata": {
        "id": "QhKq8UxOEu6w"
      }
    },
    {
      "cell_type": "code",
      "source": [
        "def conv_reference(Z, weights):\n",
        "  #1. NHWC -> NCHW\n",
        "  Z_tensor = torch.tensor(Z).permute(0,3,1,2)\n",
        "  W_tensor = torch.tensor(weights).permute(3,2,0,1)\n",
        "\n",
        "  out = nn.functional.conv2d(Z_tensor, W_tensor)\n",
        "\n",
        "  return out.permute(0,2,3,1).numpy()"
      ],
      "metadata": {
        "id": "FHrS9dUu6D7G"
      },
      "execution_count": 63,
      "outputs": []
    },
    {
      "cell_type": "code",
      "source": [
        "%%time\n",
        "out_reference = conv_reference(Z,W)\n",
        "out_reference.shape"
      ],
      "metadata": {
        "colab": {
          "base_uri": "https://localhost:8080/"
        },
        "id": "fNQJzUlOHCjI",
        "outputId": "a432736d-012e-4b4f-c9e1-eb4535c4f6ef"
      },
      "execution_count": 64,
      "outputs": [
        {
          "output_type": "stream",
          "name": "stdout",
          "text": [
            "CPU times: user 3.96 ms, sys: 0 ns, total: 3.96 ms\n",
            "Wall time: 4.79 ms\n"
          ]
        },
        {
          "output_type": "execute_result",
          "data": {
            "text/plain": [
              "(10, 30, 30, 16)"
            ]
          },
          "metadata": {},
          "execution_count": 64
        }
      ]
    },
    {
      "cell_type": "markdown",
      "source": [
        "### Naive Implementation involving 7 for loops"
      ],
      "metadata": {
        "id": "URmKXVP-HNhg"
      }
    },
    {
      "cell_type": "code",
      "source": [
        "def conv_naive(Z, weights):\n",
        "  batches, height, width, C_in = Z.shape\n",
        "  K,_,_,C_out = weights.shape\n",
        "\n",
        "  out = np.zeros(shape=(batches, height-K+1, width-K+1, C_out))\n",
        "\n",
        "  for batch in range(batches):\n",
        "    for c_in in range(C_in):\n",
        "      for c_out in range(C_out):\n",
        "        for h in range(height-K+1):\n",
        "          for w in range(width-K+1):\n",
        "            for i in range(K):\n",
        "              for j in range(K):\n",
        "                out[batch, h, w, c_out] += Z[batch, h+i, w+j, c_in] * weights[i,j,c_in,c_out]\n",
        "\n",
        "  return out"
      ],
      "metadata": {
        "id": "_UTqXYoPHQpn"
      },
      "execution_count": 65,
      "outputs": []
    },
    {
      "cell_type": "code",
      "source": [
        "%%time\n",
        "out_naive = conv_naive(Z,W)\n",
        "out_naive.shape"
      ],
      "metadata": {
        "colab": {
          "base_uri": "https://localhost:8080/"
        },
        "id": "w2l0_YbBI81l",
        "outputId": "eb24db47-1f57-48af-ca35-40b81b6f06d4"
      },
      "execution_count": 66,
      "outputs": [
        {
          "output_type": "stream",
          "name": "stdout",
          "text": [
            "CPU times: user 11.9 s, sys: 3.02 ms, total: 11.9 s\n",
            "Wall time: 12.7 s\n"
          ]
        },
        {
          "output_type": "execute_result",
          "data": {
            "text/plain": [
              "(10, 30, 30, 16)"
            ]
          },
          "metadata": {},
          "execution_count": 66
        }
      ]
    },
    {
      "cell_type": "code",
      "source": [
        "np.linalg.norm(out_naive - out_reference)"
      ],
      "metadata": {
        "colab": {
          "base_uri": "https://localhost:8080/"
        },
        "id": "Q3zQlX_rJCzd",
        "outputId": "9cd0d5af-7bab-40d6-b127-581769c4b1ea"
      },
      "execution_count": 67,
      "outputs": [
        {
          "output_type": "execute_result",
          "data": {
            "text/plain": [
              "np.float64(2.0491806431769934e-12)"
            ]
          },
          "metadata": {},
          "execution_count": 67
        }
      ]
    },
    {
      "cell_type": "markdown",
      "source": [
        "### Matrix Multiplication based convolution\n",
        "First think about the 1x1 convolution case, where we do matmul of matrix Z with W[0][0] vector. This can be extended to the kxk convolution, where we do matmul of all indices of Z where filter's [i,j]th element would act upon with W[i][j]"
      ],
      "metadata": {
        "id": "eHnPxWObJSHv"
      }
    },
    {
      "cell_type": "code",
      "source": [
        "def conv_matmul(Z, weights):\n",
        "  batches, height, width, C_in = Z.shape\n",
        "  K,_,_,C_out = weights.shape\n",
        "\n",
        "  out = np.zeros(shape=(batches, height-K+1, width-K+1, C_out))\n",
        "\n",
        "  for i in range(K):\n",
        "    for j in range(K):\n",
        "      out += Z[:, i:i+height-K+1, j:j+width-K+1, :] @ weights[i, j, :, :]\n",
        "\n",
        "  return out"
      ],
      "metadata": {
        "id": "hwjXB9hkJWZ9"
      },
      "execution_count": 68,
      "outputs": []
    },
    {
      "cell_type": "code",
      "source": [
        "%%time\n",
        "out_matmul = conv_matmul(Z, W)\n",
        "out_matmul.shape"
      ],
      "metadata": {
        "colab": {
          "base_uri": "https://localhost:8080/"
        },
        "id": "PjplrvGnMHal",
        "outputId": "ffc0a3ee-2ab6-45b6-abfd-4c6722437cc9"
      },
      "execution_count": 69,
      "outputs": [
        {
          "output_type": "stream",
          "name": "stdout",
          "text": [
            "CPU times: user 16 ms, sys: 0 ns, total: 16 ms\n",
            "Wall time: 8.65 ms\n"
          ]
        },
        {
          "output_type": "execute_result",
          "data": {
            "text/plain": [
              "(10, 30, 30, 16)"
            ]
          },
          "metadata": {},
          "execution_count": 69
        }
      ]
    },
    {
      "cell_type": "code",
      "source": [
        "np.linalg.norm(out_matmul - out_reference)"
      ],
      "metadata": {
        "colab": {
          "base_uri": "https://localhost:8080/"
        },
        "id": "juaejHrhMTW-",
        "outputId": "d0cb9040-6663-4186-8fdb-231f815fceef"
      },
      "execution_count": 70,
      "outputs": [
        {
          "output_type": "execute_result",
          "data": {
            "text/plain": [
              "np.float64(1.7882188248097304e-12)"
            ]
          },
          "metadata": {},
          "execution_count": 70
        }
      ]
    },
    {
      "cell_type": "markdown",
      "source": [
        "### im2col based convolution\n",
        "We treat convolution conv(X,W) as matrix multiplication of X_cap with W. In backprop, to calculate derivative of conv(X,W) and need to calculate v * d[conv(X,W)]/dW where v is intermediate gradient signal propagated so far, we can do conv(v, flip(X)) = X_hat.T @ v"
      ],
      "metadata": {
        "id": "0w_db8zhMkXz"
      }
    },
    {
      "cell_type": "code",
      "source": [
        "def conv_im2col(Z, weights):\n",
        "  batches, height, width, C_in = Z.shape\n",
        "  K,_,_,C_out = weights.shape\n",
        "  Ns, Hs, Ws, Cs = Z.strides\n",
        "\n",
        "  out = np.zeros(shape=(batches, height-K+1, width-K+1, C_out))\n",
        "\n",
        "  #create X_cap\n",
        "  temp = as_strided(Z, shape=(batches, height-K+1, width-K+1, K, K, C_in), strides=(Ns, Hs, Ws, Hs, Ws, Cs))\n",
        "  X_cap = temp.reshape(-1, K*K*C_in)\n",
        "\n",
        "  out = X_cap @ weights.reshape(K*K*C_in, C_out)\n",
        "\n",
        "  return out.reshape(batches, height-K+1, width-K+1, C_out)"
      ],
      "metadata": {
        "id": "A9UbRxIPMplU"
      },
      "execution_count": 71,
      "outputs": []
    },
    {
      "cell_type": "code",
      "source": [
        "%%time\n",
        "out_im2col = conv_im2col(Z, W)\n",
        "out_im2col.shape"
      ],
      "metadata": {
        "colab": {
          "base_uri": "https://localhost:8080/"
        },
        "id": "ycrC3bsc2aRG",
        "outputId": "9c997847-213b-4f89-a3be-e9c234a36c38"
      },
      "execution_count": 72,
      "outputs": [
        {
          "output_type": "stream",
          "name": "stdout",
          "text": [
            "CPU times: user 8.31 ms, sys: 0 ns, total: 8.31 ms\n",
            "Wall time: 6.03 ms\n"
          ]
        },
        {
          "output_type": "execute_result",
          "data": {
            "text/plain": [
              "(10, 30, 30, 16)"
            ]
          },
          "metadata": {},
          "execution_count": 72
        }
      ]
    },
    {
      "cell_type": "code",
      "source": [
        "np.linalg.norm(out_im2col - out_reference)"
      ],
      "metadata": {
        "colab": {
          "base_uri": "https://localhost:8080/"
        },
        "id": "-MmV89gk2gtA",
        "outputId": "7f9c12e8-23d2-443c-ddf9-3ff047e5b31f"
      },
      "execution_count": 73,
      "outputs": [
        {
          "output_type": "execute_result",
          "data": {
            "text/plain": [
              "np.float64(0.0)"
            ]
          },
          "metadata": {},
          "execution_count": 73
        }
      ]
    }
  ]
}
